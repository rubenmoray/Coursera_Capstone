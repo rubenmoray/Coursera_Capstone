{
    "cells": [
        {
            "cell_type": "markdown",
            "metadata": {},
            "source": "### Here it is the final part of the Capstone project which belongs to the IBM Data Science Professional Certificate. As it's described in the assigment's description, you will find, in the first instance, the problem described followed by a discussion of the background, and the preparation of the data that has been used for the analysis.\n\n\n# Introduction / Businness Understanding\n\n### The city of Oxford is well known around the entire world because of its University, which is considered by a vast amount of people as the best university of the world. This fact makes this city famous despite being just populated by a total of 150.000 people, including the thousands of students who every year fight to have the opportunity to be enrolled in such prestigious colleges.\n\n###  Also, it\u2019s because of that reputation the reason why lot of researchers, scientists and teachers use to live around Oxfordshire, which produces at the same time, an attraction for a determined type of business related to a certain high-profile costumer, as we are talking about one of the top areas in the United Kingdom in the rate composed by income per capita / population. \n\n### It would be a fundamental part of the study to decide what type of business is more convenient, depending on the analysis of the current situation of how the businesses in the city are structured bearing on mind relevant and pertinent variables.\n\n## Data Requirements\n\n### In order to successfully complete the study we have used the following data:\n\n### **string** To get the different neighborhoods of the city of Oxford we have used Wikipedia.\n### Data source: 'https://en.wikipedia.org/wiki/OX_postcode_area'\n\n### **string** To get the different types of businnesses in Oxford and their location we have used Foursquare API.\n\n### Alternatively, to support and help us with our decisions, alonsgside the study we will use different types of documents or graphs. The origin of which will be defined accordingly.\n"
        },
        {
            "cell_type": "markdown",
            "metadata": {},
            "source": ""
        }
    ],
    "metadata": {
        "kernelspec": {
            "display_name": "Python 3.6",
            "language": "python",
            "name": "python3"
        },
        "language_info": {
            "codemirror_mode": {
                "name": "ipython",
                "version": 3
            },
            "file_extension": ".py",
            "mimetype": "text/x-python",
            "name": "python",
            "nbconvert_exporter": "python",
            "pygments_lexer": "ipython3",
            "version": "3.6.9"
        }
    },
    "nbformat": 4,
    "nbformat_minor": 1
}